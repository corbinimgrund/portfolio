{
 "cells": [
  {
   "cell_type": "code",
   "execution_count": 1,
   "id": "04f9e5d2-6df6-4153-b01e-882b364f6164",
   "metadata": {},
   "outputs": [
    {
     "name": "stdout",
     "output_type": "stream",
     "text": [
      "Requirement already satisfied: yfinance in /Library/Frameworks/Python.framework/Versions/3.12/lib/python3.12/site-packages (0.2.38)\n",
      "Requirement already satisfied: pandas>=1.3.0 in /Library/Frameworks/Python.framework/Versions/3.12/lib/python3.12/site-packages (from yfinance) (2.2.2)\n",
      "Requirement already satisfied: numpy>=1.16.5 in /Library/Frameworks/Python.framework/Versions/3.12/lib/python3.12/site-packages (from yfinance) (1.26.4)\n",
      "Requirement already satisfied: requests>=2.31 in /Library/Frameworks/Python.framework/Versions/3.12/lib/python3.12/site-packages (from yfinance) (2.31.0)\n",
      "Requirement already satisfied: multitasking>=0.0.7 in /Library/Frameworks/Python.framework/Versions/3.12/lib/python3.12/site-packages (from yfinance) (0.0.11)\n",
      "Requirement already satisfied: lxml>=4.9.1 in /Library/Frameworks/Python.framework/Versions/3.12/lib/python3.12/site-packages (from yfinance) (5.2.1)\n",
      "Requirement already satisfied: appdirs>=1.4.4 in /Library/Frameworks/Python.framework/Versions/3.12/lib/python3.12/site-packages (from yfinance) (1.4.4)\n",
      "Requirement already satisfied: pytz>=2022.5 in /Library/Frameworks/Python.framework/Versions/3.12/lib/python3.12/site-packages (from yfinance) (2024.1)\n",
      "Requirement already satisfied: frozendict>=2.3.4 in /Library/Frameworks/Python.framework/Versions/3.12/lib/python3.12/site-packages (from yfinance) (2.4.2)\n",
      "Requirement already satisfied: peewee>=3.16.2 in /Library/Frameworks/Python.framework/Versions/3.12/lib/python3.12/site-packages (from yfinance) (3.17.3)\n",
      "Requirement already satisfied: beautifulsoup4>=4.11.1 in /Library/Frameworks/Python.framework/Versions/3.12/lib/python3.12/site-packages (from yfinance) (4.12.3)\n",
      "Requirement already satisfied: html5lib>=1.1 in /Library/Frameworks/Python.framework/Versions/3.12/lib/python3.12/site-packages (from yfinance) (1.1)\n",
      "Requirement already satisfied: soupsieve>1.2 in /Library/Frameworks/Python.framework/Versions/3.12/lib/python3.12/site-packages (from beautifulsoup4>=4.11.1->yfinance) (2.5)\n",
      "Requirement already satisfied: six>=1.9 in /Library/Frameworks/Python.framework/Versions/3.12/lib/python3.12/site-packages (from html5lib>=1.1->yfinance) (1.16.0)\n",
      "Requirement already satisfied: webencodings in /Library/Frameworks/Python.framework/Versions/3.12/lib/python3.12/site-packages (from html5lib>=1.1->yfinance) (0.5.1)\n",
      "Requirement already satisfied: python-dateutil>=2.8.2 in /Library/Frameworks/Python.framework/Versions/3.12/lib/python3.12/site-packages (from pandas>=1.3.0->yfinance) (2.9.0.post0)\n",
      "Requirement already satisfied: tzdata>=2022.7 in /Library/Frameworks/Python.framework/Versions/3.12/lib/python3.12/site-packages (from pandas>=1.3.0->yfinance) (2024.1)\n",
      "Requirement already satisfied: charset-normalizer<4,>=2 in /Library/Frameworks/Python.framework/Versions/3.12/lib/python3.12/site-packages (from requests>=2.31->yfinance) (3.3.2)\n",
      "Requirement already satisfied: idna<4,>=2.5 in /Library/Frameworks/Python.framework/Versions/3.12/lib/python3.12/site-packages (from requests>=2.31->yfinance) (3.7)\n",
      "Requirement already satisfied: urllib3<3,>=1.21.1 in /Library/Frameworks/Python.framework/Versions/3.12/lib/python3.12/site-packages (from requests>=2.31->yfinance) (2.2.1)\n",
      "Requirement already satisfied: certifi>=2017.4.17 in /Library/Frameworks/Python.framework/Versions/3.12/lib/python3.12/site-packages (from requests>=2.31->yfinance) (2023.7.22)\n",
      "Note: you may need to restart the kernel to use updated packages.\n"
     ]
    }
   ],
   "source": [
    "pip install yfinance"
   ]
  },
  {
   "cell_type": "code",
   "execution_count": 2,
   "id": "ced2945b-3dbe-4a3f-910c-a176cbae751a",
   "metadata": {},
   "outputs": [
    {
     "name": "stderr",
     "output_type": "stream",
     "text": [
      "[*********************100%%**********************]  1 of 1 completed"
     ]
    },
    {
     "name": "stdout",
     "output_type": "stream",
     "text": [
      "                  Open        High         Low       Close   Adj Close  \\\n",
      "Date                                                                     \n",
      "2023-01-03  118.470001  118.800003  104.639999  108.099998  108.099998   \n",
      "2023-01-04  109.110001  114.589996  107.519997  113.639999  113.639999   \n",
      "2023-01-05  110.510002  111.750000  107.160004  110.339996  110.339996   \n",
      "2023-01-06  103.000000  114.389999  101.809998  113.059998  113.059998   \n",
      "2023-01-09  118.959999  123.519997  117.110001  119.769997  119.769997   \n",
      "\n",
      "               Volume  \n",
      "Date                   \n",
      "2023-01-03  231402800  \n",
      "2023-01-04  180389000  \n",
      "2023-01-05  157986300  \n",
      "2023-01-06  220911100  \n",
      "2023-01-09  190284000  \n"
     ]
    },
    {
     "name": "stderr",
     "output_type": "stream",
     "text": [
      "\n"
     ]
    }
   ],
   "source": [
    "import yfinance as yf\n",
    "\n",
    "# Define the ticker symbol for Tesla (TSLA)\n",
    "ticker_symbol = 'TSLA'\n",
    "\n",
    "# Fetch Tesla stock data using yfinance\n",
    "tesla_data = yf.download(ticker_symbol, start='2023-01-01', end='2023-12-31')\n",
    "\n",
    "# Print the first few rows of the fetched data to verify\n",
    "print(tesla_data.head())\n"
   ]
  },
  {
   "cell_type": "code",
   "execution_count": 3,
   "id": "2d54eacb-c57f-4188-a722-d13f8c1dcfc5",
   "metadata": {},
   "outputs": [
    {
     "name": "stdout",
     "output_type": "stream",
     "text": [
      "Failed to retrieve webpage. Status code: 403\n"
     ]
    }
   ],
   "source": [
    "import requests\n",
    "from bs4 import BeautifulSoup\n",
    "\n",
    "# URL of the webpage containing Tesla revenue data\n",
    "url = 'https://www.macrotrends.net/stocks/charts/TSLA/tesla/revenue'\n",
    "\n",
    "# Send an HTTP GET request to the URL\n",
    "response = requests.get(url)\n",
    "\n",
    "# Check if the request was successful (status code 200)\n",
    "if response.status_code == 200:\n",
    "    # Parse the HTML content of the page using BeautifulSoup\n",
    "    soup = BeautifulSoup(response.content, 'html.parser')\n",
    "    \n",
    "    # Find the table containing revenue data (inspect the webpage to get the specific table class or id)\n",
    "    revenue_table = soup.find('table', {'class': 'historical_data_table'})\n",
    "    \n",
    "    if revenue_table:\n",
    "        # Extract revenue data from the table\n",
    "        rows = revenue_table.find_all('tr')\n",
    "        for row in rows:\n",
    "            # Extract data from each row (assuming the structure of the table)\n",
    "            columns = row.find_all('td')\n",
    "            if len(columns) >= 2:\n",
    "                date = columns[0].text.strip()\n",
    "                revenue = columns[1].text.strip()\n",
    "                print(f\"Date: {date}, Revenue: {revenue}\")\n",
    "    else:\n",
    "        print(\"Revenue table not found on the webpage.\")\n",
    "else:\n",
    "    print(\"Failed to retrieve webpage. Status code:\", response.status_code)\n"
   ]
  },
  {
   "cell_type": "code",
   "execution_count": 4,
   "id": "fbd667ac-6302-4859-8814-f2902526622f",
   "metadata": {},
   "outputs": [
    {
     "name": "stdout",
     "output_type": "stream",
     "text": [
      "Date: 2023, Revenue: $96,773\n",
      "Date: 2022, Revenue: $81,462\n",
      "Date: 2021, Revenue: $53,823\n",
      "Date: 2020, Revenue: $31,536\n",
      "Date: 2019, Revenue: $24,578\n",
      "Date: 2018, Revenue: $21,461\n",
      "Date: 2017, Revenue: $11,759\n",
      "Date: 2016, Revenue: $7,000\n",
      "Date: 2015, Revenue: $4,046\n",
      "Date: 2014, Revenue: $3,198\n",
      "Date: 2013, Revenue: $2,013\n",
      "Date: 2012, Revenue: $413\n",
      "Date: 2011, Revenue: $204\n",
      "Date: 2010, Revenue: $117\n",
      "Date: 2009, Revenue: $112\n"
     ]
    }
   ],
   "source": [
    "import requests\n",
    "from bs4 import BeautifulSoup\n",
    "\n",
    "# URL of the webpage containing Tesla revenue data\n",
    "url = 'https://www.macrotrends.net/stocks/charts/TSLA/tesla/revenue'\n",
    "\n",
    "# Define a user-agent header to mimic a web browser\n",
    "headers = {'User-Agent': 'Mozilla/5.0 (Windows NT 10.0; Win64; x64) AppleWebKit/537.36 (KHTML, like Gecko) Chrome/98.0.4758.102 Safari/537.36'}\n",
    "\n",
    "# Send an HTTP GET request to the URL with the specified headers\n",
    "response = requests.get(url, headers=headers)\n",
    "\n",
    "try:\n",
    "    # Check if the request was successful (status code 200)\n",
    "    response.raise_for_status()\n",
    "    \n",
    "    # Parse the HTML content of the page using BeautifulSoup\n",
    "    soup = BeautifulSoup(response.content, 'html.parser')\n",
    "    \n",
    "    # Find the table containing revenue data (inspect the webpage to get the specific table class or id)\n",
    "    revenue_table = soup.find('table', {'class': 'historical_data_table'})\n",
    "    \n",
    "    if revenue_table:\n",
    "        # Extract revenue data from the table\n",
    "        rows = revenue_table.find_all('tr')\n",
    "        for row in rows:\n",
    "            # Extract data from each row (assuming the structure of the table)\n",
    "            columns = row.find_all('td')\n",
    "            if len(columns) >= 2:\n",
    "                date = columns[0].text.strip()\n",
    "                revenue = columns[1].text.strip()\n",
    "                print(f\"Date: {date}, Revenue: {revenue}\")\n",
    "    else:\n",
    "        print(\"Revenue table not found on the webpage.\")\n",
    "except requests.exceptions.HTTPError as err:\n",
    "    print(f\"HTTP error occurred: {err}\")\n",
    "except Exception as e:\n",
    "    print(f\"An error occurred: {e}\")\n"
   ]
  },
  {
   "cell_type": "code",
   "execution_count": 5,
   "id": "f51ecdf9-20ac-4088-8e09-9e0d05e16326",
   "metadata": {},
   "outputs": [
    {
     "name": "stderr",
     "output_type": "stream",
     "text": [
      "[*********************100%%**********************]  1 of 1 completed"
     ]
    },
    {
     "name": "stdout",
     "output_type": "stream",
     "text": [
      "                 Open       High        Low      Close  Adj Close   Volume\n",
      "Date                                                                      \n",
      "2023-01-03  18.639999  19.260000  17.090000  17.200001  17.200001  5135200\n",
      "2023-01-04  17.250000  17.930000  16.900000  17.320000  17.320000  3939300\n",
      "2023-01-05  17.059999  17.260000  15.890000  16.219999  16.219999  6066200\n",
      "2023-01-06  16.000000  16.570000  15.410000  16.459999  16.459999  4823400\n",
      "2023-01-09  16.650000  17.129999  16.360001  16.379999  16.379999  3522600\n"
     ]
    },
    {
     "name": "stderr",
     "output_type": "stream",
     "text": [
      "\n"
     ]
    }
   ],
   "source": [
    "import yfinance as yf\n",
    "\n",
    "# Define the ticker symbol for GameStop (GME)\n",
    "ticker_symbol = 'GME'\n",
    "\n",
    "# Fetch GameStop stock data using yfinance\n",
    "gme_data = yf.download(ticker_symbol, start='2023-01-01', end='2023-12-31')\n",
    "\n",
    "# Print the first few rows of the fetched data to verify\n",
    "print(gme_data.head())\n"
   ]
  },
  {
   "cell_type": "code",
   "execution_count": 6,
   "id": "9793c0a9-167e-40ae-97a7-e49dbd7fec11",
   "metadata": {},
   "outputs": [
    {
     "name": "stdout",
     "output_type": "stream",
     "text": [
      "HTTP error occurred: 403 Client Error: Forbidden for url: https://www.macrotrends.net/stocks/charts/GME/gamestop/revenue\n"
     ]
    }
   ],
   "source": [
    "import requests\n",
    "from bs4 import BeautifulSoup\n",
    "\n",
    "def get_gamestop_revenue():\n",
    "    # URL of the webpage containing GameStop revenue data\n",
    "    url = 'https://www.macrotrends.net/stocks/charts/GME/gamestop/revenue'\n",
    "\n",
    "    try:\n",
    "        # Send an HTTP GET request to the URL\n",
    "        response = requests.get(url)\n",
    "\n",
    "        # Check if the request was successful (status code 200)\n",
    "        response.raise_for_status()\n",
    "\n",
    "        # Parse the HTML content of the page using BeautifulSoup\n",
    "        soup = BeautifulSoup(response.content, 'html.parser')\n",
    "\n",
    "        # Find the revenue data table (specific to the website structure)\n",
    "        revenue_table = soup.find('table', {'class': 'historical_data_table'})\n",
    "\n",
    "        if revenue_table:\n",
    "            # Extract revenue data from the table\n",
    "            rows = revenue_table.find_all('tr')\n",
    "            for row in rows:\n",
    "                # Extract data from each row (assuming the structure of the table)\n",
    "                columns = row.find_all('td')\n",
    "                if len(columns) >= 2:\n",
    "                    date = columns[0].text.strip()\n",
    "                    revenue = columns[1].text.strip()\n",
    "                    print(f\"Date: {date}, Revenue: {revenue}\")\n",
    "        else:\n",
    "            print(\"Revenue table not found on the webpage.\")\n",
    "\n",
    "    except requests.exceptions.HTTPError as err:\n",
    "        print(f\"HTTP error occurred: {err}\")\n",
    "    except requests.exceptions.RequestException as e:\n",
    "        print(f\"An error occurred: {e}\")\n",
    "\n",
    "# Call the function to get GameStop revenue data\n",
    "get_gamestop_revenue()\n"
   ]
  },
  {
   "cell_type": "code",
   "execution_count": 7,
   "id": "65887dcf-0a5f-4790-89a4-c21bec6c5b43",
   "metadata": {},
   "outputs": [
    {
     "name": "stdout",
     "output_type": "stream",
     "text": [
      "HTTP error occurred: 403 Client Error: Forbidden for url: https://www.macrotrends.net/stocks/charts/GME/gamestop/revenue\n"
     ]
    }
   ],
   "source": [
    "import requests\n",
    "from bs4 import BeautifulSoup\n",
    "\n",
    "def get_gamestop_revenue():\n",
    "    url = 'https://www.macrotrends.net/stocks/charts/GME/gamestop/revenue'\n",
    "    \n",
    "    try:\n",
    "        response = requests.get(url)\n",
    "        response.raise_for_status()  # Raise an exception for HTTP errors\n",
    "        \n",
    "        soup = BeautifulSoup(response.content, 'html.parser')\n",
    "        \n",
    "        # Find the revenue table using more specific selectors\n",
    "        revenue_table = soup.find('table', class_='historical_data_table')\n",
    "        \n",
    "        if revenue_table:\n",
    "            rows = revenue_table.find_all('tr')\n",
    "            for row in rows:\n",
    "                columns = row.find_all('td')\n",
    "                if len(columns) >= 2:\n",
    "                    date = columns[0].text.strip()\n",
    "                    revenue = columns[1].text.strip()\n",
    "                    print(f\"Date: {date}, Revenue: {revenue}\")\n",
    "        else:\n",
    "            print(\"Revenue table not found on the webpage.\")\n",
    "            \n",
    "    except requests.exceptions.HTTPError as err:\n",
    "        print(f\"HTTP error occurred: {err}\")\n",
    "    except requests.exceptions.RequestException as e:\n",
    "        print(f\"An error occurred: {e}\")\n",
    "    except Exception as ex:\n",
    "        print(f\"An unexpected error occurred: {ex}\")\n",
    "\n",
    "# Call the function to get GameStop revenue data\n",
    "get_gamestop_revenue()\n"
   ]
  },
  {
   "cell_type": "code",
   "execution_count": 8,
   "id": "a9e8e149-e577-4020-8031-9e91a073423e",
   "metadata": {},
   "outputs": [
    {
     "ename": "AttributeError",
     "evalue": "'NoneType' object has no attribute 'find_all'",
     "output_type": "error",
     "traceback": [
      "\u001b[0;31m---------------------------------------------------------------------------\u001b[0m",
      "\u001b[0;31mAttributeError\u001b[0m                            Traceback (most recent call last)",
      "Cell \u001b[0;32mIn[8], line 22\u001b[0m\n\u001b[1;32m     19\u001b[0m revenues \u001b[38;5;241m=\u001b[39m []\n\u001b[1;32m     21\u001b[0m \u001b[38;5;66;03m# Extract data from the table rows\u001b[39;00m\n\u001b[0;32m---> 22\u001b[0m \u001b[38;5;28;01mfor\u001b[39;00m row \u001b[38;5;129;01min\u001b[39;00m \u001b[43mrevenue_table\u001b[49m\u001b[38;5;241;43m.\u001b[39;49m\u001b[43mfind_all\u001b[49m(\u001b[38;5;124m'\u001b[39m\u001b[38;5;124mtr\u001b[39m\u001b[38;5;124m'\u001b[39m):\n\u001b[1;32m     23\u001b[0m     \u001b[38;5;66;03m# Extract data from table cells (td)\u001b[39;00m\n\u001b[1;32m     24\u001b[0m     cells \u001b[38;5;241m=\u001b[39m row\u001b[38;5;241m.\u001b[39mfind_all(\u001b[38;5;124m'\u001b[39m\u001b[38;5;124mtd\u001b[39m\u001b[38;5;124m'\u001b[39m)\n\u001b[1;32m     25\u001b[0m     \u001b[38;5;28;01mif\u001b[39;00m \u001b[38;5;28mlen\u001b[39m(cells) \u001b[38;5;241m==\u001b[39m \u001b[38;5;241m2\u001b[39m:  \u001b[38;5;66;03m# Ensure it's a valid row with two cells (date and revenue)\u001b[39;00m\n",
      "\u001b[0;31mAttributeError\u001b[0m: 'NoneType' object has no attribute 'find_all'"
     ]
    }
   ],
   "source": [
    "import requests\n",
    "from bs4 import BeautifulSoup\n",
    "\n",
    "# Define the URL of the page containing GameStop revenue data\n",
    "url = 'https://www.macrotrends.net/stocks/charts/GME/gamestop/revenue'\n",
    "\n",
    "# Send a GET request to the URL and fetch the HTML content\n",
    "response = requests.get(url)\n",
    "html_content = response.content\n",
    "\n",
    "# Parse the HTML content using BeautifulSoup\n",
    "soup = BeautifulSoup(html_content, 'html.parser')\n",
    "\n",
    "# Find the table containing the revenue data\n",
    "revenue_table = soup.find('table', {'class': 'historical_data_table'})\n",
    "\n",
    "# Initialize lists to store the extracted data\n",
    "dates = []\n",
    "revenues = []\n",
    "\n",
    "# Extract data from the table rows\n",
    "for row in revenue_table.find_all('tr'):\n",
    "    # Extract data from table cells (td)\n",
    "    cells = row.find_all('td')\n",
    "    if len(cells) == 2:  # Ensure it's a valid row with two cells (date and revenue)\n",
    "        dates.append(cells[0].text.strip())  # Extract date and remove extra spaces\n",
    "        revenues.append(cells[1].text.strip())  # Extract revenue and remove extra spaces\n",
    "\n",
    "# Print the extracted data\n",
    "for date, revenue in zip(dates, revenues):\n",
    "    print(f\"Date: {date}, Revenue: {revenue}\")\n",
    "\n",
    "# Optionally, you can store the extracted data in a file or database for further processing\n"
   ]
  },
  {
   "cell_type": "code",
   "execution_count": 9,
   "id": "c24175e2-c528-4c08-bc82-5ecc56e79001",
   "metadata": {},
   "outputs": [
    {
     "name": "stdout",
     "output_type": "stream",
     "text": [
      "Table with class 'historical_data_table' not found on the page.\n"
     ]
    }
   ],
   "source": [
    "import requests\n",
    "from bs4 import BeautifulSoup\n",
    "\n",
    "# Define the URL of the page containing GameStop revenue data\n",
    "url = 'https://www.macrotrends.net/stocks/charts/GME/gamestop/revenue'\n",
    "\n",
    "# Send a GET request to the URL and fetch the HTML content\n",
    "response = requests.get(url)\n",
    "html_content = response.content\n",
    "\n",
    "# Parse the HTML content using BeautifulSoup\n",
    "soup = BeautifulSoup(html_content, 'html.parser')\n",
    "\n",
    "# Find the table containing the revenue data\n",
    "revenue_table = soup.find('table', {'class': 'historical_data_table'})\n",
    "\n",
    "if revenue_table is not None:\n",
    "    # Initialize lists to store the extracted data\n",
    "    dates = []\n",
    "    revenues = []\n",
    "\n",
    "    # Extract data from the table rows\n",
    "    for row in revenue_table.find_all('tr'):\n",
    "        # Extract data from table cells (td)\n",
    "        cells = row.find_all('td')\n",
    "        if len(cells) == 2:  # Ensure it's a valid row with two cells (date and revenue)\n",
    "            dates.append(cells[0].text.strip())  # Extract date and remove extra spaces\n",
    "            revenues.append(cells[1].text.strip())  # Extract revenue and remove extra spaces\n",
    "\n",
    "    # Print the extracted data\n",
    "    for date, revenue in zip(dates, revenues):\n",
    "        print(f\"Date: {date}, Revenue: {revenue}\")\n",
    "\n",
    "    # Optionally, you can store the extracted data in a file or database for further processing\n",
    "else:\n",
    "    print(\"Table with class 'historical_data_table' not found on the page.\")\n"
   ]
  },
  {
   "cell_type": "code",
   "execution_count": 10,
   "id": "eca14f94-aca5-473f-bcea-ab2dbf01039e",
   "metadata": {},
   "outputs": [
    {
     "ename": "ModuleNotFoundError",
     "evalue": "No module named 'selenium'",
     "output_type": "error",
     "traceback": [
      "\u001b[0;31m---------------------------------------------------------------------------\u001b[0m",
      "\u001b[0;31mModuleNotFoundError\u001b[0m                       Traceback (most recent call last)",
      "Cell \u001b[0;32mIn[10], line 1\u001b[0m\n\u001b[0;32m----> 1\u001b[0m \u001b[38;5;28;01mfrom\u001b[39;00m \u001b[38;5;21;01mselenium\u001b[39;00m \u001b[38;5;28;01mimport\u001b[39;00m webdriver\n\u001b[1;32m      2\u001b[0m \u001b[38;5;28;01mfrom\u001b[39;00m \u001b[38;5;21;01mbs4\u001b[39;00m \u001b[38;5;28;01mimport\u001b[39;00m BeautifulSoup\n\u001b[1;32m      4\u001b[0m \u001b[38;5;66;03m# Initialize a Selenium WebDriver (make sure you have the appropriate driver installed)\u001b[39;00m\n",
      "\u001b[0;31mModuleNotFoundError\u001b[0m: No module named 'selenium'"
     ]
    }
   ],
   "source": [
    "from selenium import webdriver\n",
    "from bs4 import BeautifulSoup\n",
    "\n",
    "# Initialize a Selenium WebDriver (make sure you have the appropriate driver installed)\n",
    "driver = webdriver.Chrome()  # You can change this to match your browser and driver path\n",
    "\n",
    "# Load the URL using Selenium\n",
    "url = 'https://www.macrotrends.net/stocks/charts/GME/gamestop/revenue'\n",
    "driver.get(url)\n",
    "\n",
    "# Get the page source after it's fully loaded (wait if necessary)\n",
    "html_content = driver.page_source\n",
    "\n",
    "# Parse the HTML content using BeautifulSoup\n",
    "soup = BeautifulSoup(html_content, 'html.parser')\n",
    "\n",
    "# Find the table containing the revenue data\n",
    "revenue_table = soup.find('table', {'class': 'historical_data_table'})\n",
    "\n",
    "if revenue_table is not None:\n",
    "    # Your data extraction code here (similar to the previous example)\n",
    "    # Remember to close the WebDriver once you're done\n",
    "    driver.quit()\n",
    "else:\n",
    "    print(\"Table with class 'historical_data_table' not found on the page.\")\n",
    "\n",
    "# Continue with your data extraction or error handling as needed\n"
   ]
  },
  {
   "cell_type": "code",
   "execution_count": 11,
   "id": "11760d0b-05a9-4431-97d3-f5112d85c25a",
   "metadata": {},
   "outputs": [
    {
     "name": "stdout",
     "output_type": "stream",
     "text": [
      "Collecting selenium\n",
      "  Downloading selenium-4.19.0-py3-none-any.whl.metadata (6.9 kB)\n",
      "Requirement already satisfied: urllib3<3,>=1.26 in /Library/Frameworks/Python.framework/Versions/3.12/lib/python3.12/site-packages (from urllib3[socks]<3,>=1.26->selenium) (2.2.1)\n",
      "Collecting trio~=0.17 (from selenium)\n",
      "  Downloading trio-0.25.0-py3-none-any.whl.metadata (8.7 kB)\n",
      "Collecting trio-websocket~=0.9 (from selenium)\n",
      "  Downloading trio_websocket-0.11.1-py3-none-any.whl.metadata (4.7 kB)\n",
      "Requirement already satisfied: certifi>=2021.10.8 in /Library/Frameworks/Python.framework/Versions/3.12/lib/python3.12/site-packages (from selenium) (2023.7.22)\n",
      "Collecting typing_extensions>=4.9.0 (from selenium)\n",
      "  Downloading typing_extensions-4.11.0-py3-none-any.whl.metadata (3.0 kB)\n",
      "Requirement already satisfied: attrs>=23.2.0 in /Library/Frameworks/Python.framework/Versions/3.12/lib/python3.12/site-packages (from trio~=0.17->selenium) (23.2.0)\n",
      "Collecting sortedcontainers (from trio~=0.17->selenium)\n",
      "  Downloading sortedcontainers-2.4.0-py2.py3-none-any.whl.metadata (10 kB)\n",
      "Requirement already satisfied: idna in /Library/Frameworks/Python.framework/Versions/3.12/lib/python3.12/site-packages (from trio~=0.17->selenium) (3.7)\n",
      "Collecting outcome (from trio~=0.17->selenium)\n",
      "  Downloading outcome-1.3.0.post0-py2.py3-none-any.whl.metadata (2.6 kB)\n",
      "Requirement already satisfied: sniffio>=1.3.0 in /Library/Frameworks/Python.framework/Versions/3.12/lib/python3.12/site-packages (from trio~=0.17->selenium) (1.3.1)\n",
      "Collecting wsproto>=0.14 (from trio-websocket~=0.9->selenium)\n",
      "  Downloading wsproto-1.2.0-py3-none-any.whl.metadata (5.6 kB)\n",
      "Collecting pysocks!=1.5.7,<2.0,>=1.5.6 (from urllib3[socks]<3,>=1.26->selenium)\n",
      "  Downloading PySocks-1.7.1-py3-none-any.whl.metadata (13 kB)\n",
      "Requirement already satisfied: h11<1,>=0.9.0 in /Library/Frameworks/Python.framework/Versions/3.12/lib/python3.12/site-packages (from wsproto>=0.14->trio-websocket~=0.9->selenium) (0.14.0)\n",
      "Downloading selenium-4.19.0-py3-none-any.whl (10.5 MB)\n",
      "\u001b[2K   \u001b[90m━━━━━━━━━━━━━━━━━━━━━━━━━━━━━━━━━━━━━━━━\u001b[0m \u001b[32m10.5/10.5 MB\u001b[0m \u001b[31m17.4 MB/s\u001b[0m eta \u001b[36m0:00:00\u001b[0m00:01\u001b[0m0:01\u001b[0m\n",
      "\u001b[?25hDownloading trio-0.25.0-py3-none-any.whl (467 kB)\n",
      "\u001b[2K   \u001b[90m━━━━━━━━━━━━━━━━━━━━━━━━━━━━━━━━━━━━━━━━\u001b[0m \u001b[32m467.2/467.2 kB\u001b[0m \u001b[31m12.6 MB/s\u001b[0m eta \u001b[36m0:00:00\u001b[0m\n",
      "\u001b[?25hDownloading trio_websocket-0.11.1-py3-none-any.whl (17 kB)\n",
      "Downloading typing_extensions-4.11.0-py3-none-any.whl (34 kB)\n",
      "Downloading PySocks-1.7.1-py3-none-any.whl (16 kB)\n",
      "Downloading wsproto-1.2.0-py3-none-any.whl (24 kB)\n",
      "Downloading outcome-1.3.0.post0-py2.py3-none-any.whl (10 kB)\n",
      "Downloading sortedcontainers-2.4.0-py2.py3-none-any.whl (29 kB)\n",
      "Installing collected packages: sortedcontainers, wsproto, typing_extensions, pysocks, outcome, trio, trio-websocket, selenium\n",
      "Successfully installed outcome-1.3.0.post0 pysocks-1.7.1 selenium-4.19.0 sortedcontainers-2.4.0 trio-0.25.0 trio-websocket-0.11.1 typing_extensions-4.11.0 wsproto-1.2.0\n",
      "Note: you may need to restart the kernel to use updated packages.\n"
     ]
    }
   ],
   "source": [
    "pip install selenium"
   ]
  },
  {
   "cell_type": "code",
   "execution_count": 12,
   "id": "78c1b01e-7dd6-4472-953d-e45f6efc70c2",
   "metadata": {},
   "outputs": [],
   "source": [
    "from selenium import webdriver\n",
    "from bs4 import BeautifulSoup\n",
    "\n",
    "# Initialize a Selenium WebDriver (make sure you have the appropriate driver installed)\n",
    "driver = webdriver.Chrome()  # You can change this to match your browser and driver path\n",
    "\n",
    "# Load the URL using Selenium\n",
    "url = 'https://www.macrotrends.net/stocks/charts/GME/gamestop/revenue'\n",
    "driver.get(url)\n",
    "\n",
    "# Get the page source after it's fully loaded (wait if necessary)\n",
    "html_content = driver.page_source\n",
    "\n",
    "# Parse the HTML content using BeautifulSoup\n",
    "soup = BeautifulSoup(html_content, 'html.parser')\n",
    "\n",
    "# Find the table containing the revenue data\n",
    "revenue_table = soup.find('table', {'class': 'historical_data_table'})\n",
    "\n",
    "if revenue_table is not None:\n",
    "    # Your data extraction code here (similar to the previous example)\n",
    "    # Remember to close the WebDriver once you're done\n",
    "    driver.quit()\n",
    "else:\n",
    "    print(\"Table with class 'historical_data_table' not found on the page.\")\n",
    "\n",
    "# Continue with your data extraction or error handling as needed\n"
   ]
  },
  {
   "cell_type": "code",
   "execution_count": 1,
   "id": "f9fab186-368c-4650-88ab-32854fdf957d",
   "metadata": {},
   "outputs": [
    {
     "name": "stdout",
     "output_type": "stream",
     "text": [
      "Failed to fetch the webpage.\n"
     ]
    }
   ],
   "source": [
    "import requests\n",
    "from bs4 import BeautifulSoup\n",
    "\n",
    "def get_gamestop_revenue():\n",
    "    # URL of the GameStop revenue page\n",
    "    url = 'https://www.macrotrends.net/stocks/charts/GME/gamestop/revenue'\n",
    "\n",
    "    # Send a GET request to the URL\n",
    "    response = requests.get(url)\n",
    "\n",
    "    # Check if the request was successful (status code 200)\n",
    "    if response.status_code == 200:\n",
    "        # Parse the HTML content using BeautifulSoup\n",
    "        soup = BeautifulSoup(response.content, 'html.parser')\n",
    "        \n",
    "        # Find the revenue table on the page\n",
    "        revenue_table = soup.find('table', class_='historical_data_table table')\n",
    "        \n",
    "        # Check if the revenue table was found\n",
    "        if revenue_table:\n",
    "            # Extract the rows from the revenue table\n",
    "            rows = revenue_table.find_all('tr')\n",
    "            \n",
    "            # Initialize an empty list to store revenue data\n",
    "            revenue_data = []\n",
    "            \n",
    "            # Iterate over rows to extract data\n",
    "            for row in rows[1:]:  # Skip the header row\n",
    "                cells = row.find_all('td')\n",
    "                year = cells[0].text.strip()\n",
    "                revenue = cells[1].text.strip()\n",
    "                revenue_data.append({'Year': year, 'Revenue': revenue})\n",
    "            \n",
    "            return revenue_data\n",
    "        else:\n",
    "            print(\"Revenue table not found on the page.\")\n",
    "    else:\n",
    "        print(\"Failed to fetch the webpage.\")\n",
    "\n",
    "# Usage example\n",
    "gamestop_revenue_data = get_gamestop_revenue()\n",
    "if gamestop_revenue_data:\n",
    "    for entry in gamestop_revenue_data:\n",
    "        print(entry)\n"
   ]
  },
  {
   "cell_type": "code",
   "execution_count": 2,
   "id": "51d3c8bb-3a1b-4ade-87ea-16c8eec8ac26",
   "metadata": {},
   "outputs": [
    {
     "ename": "NameError",
     "evalue": "name 'url' is not defined",
     "output_type": "error",
     "traceback": [
      "\u001b[0;31m---------------------------------------------------------------------------\u001b[0m",
      "\u001b[0;31mNameError\u001b[0m                                 Traceback (most recent call last)",
      "Cell \u001b[0;32mIn[2], line 2\u001b[0m\n\u001b[1;32m      1\u001b[0m headers \u001b[38;5;241m=\u001b[39m {\u001b[38;5;124m'\u001b[39m\u001b[38;5;124mUser-Agent\u001b[39m\u001b[38;5;124m'\u001b[39m: \u001b[38;5;124m'\u001b[39m\u001b[38;5;124mMozilla/5.0 (Windows NT 10.0; Win64; x64) AppleWebKit/537.36 (KHTML, like Gecko) Chrome/96.0.4664.110 Safari/537.36\u001b[39m\u001b[38;5;124m'\u001b[39m}\n\u001b[0;32m----> 2\u001b[0m response \u001b[38;5;241m=\u001b[39m requests\u001b[38;5;241m.\u001b[39mget(\u001b[43murl\u001b[49m, headers\u001b[38;5;241m=\u001b[39mheaders)\n",
      "\u001b[0;31mNameError\u001b[0m: name 'url' is not defined"
     ]
    }
   ],
   "source": [
    "headers = {'User-Agent': 'Mozilla/5.0 (Windows NT 10.0; Win64; x64) AppleWebKit/537.36 (KHTML, like Gecko) Chrome/96.0.4664.110 Safari/537.36'}\n",
    "response = requests.get(url, headers=headers)\n"
   ]
  },
  {
   "cell_type": "code",
   "execution_count": 3,
   "id": "53d00f3f-c679-4196-8f9d-7b898435e4fe",
   "metadata": {},
   "outputs": [
    {
     "name": "stdout",
     "output_type": "stream",
     "text": [
      "{'Year': '2024', 'Revenue': '$5,273'}\n",
      "{'Year': '2023', 'Revenue': '$5,927'}\n",
      "{'Year': '2022', 'Revenue': '$6,011'}\n",
      "{'Year': '2021', 'Revenue': '$5,090'}\n",
      "{'Year': '2020', 'Revenue': '$6,466'}\n",
      "{'Year': '2019', 'Revenue': '$8,285'}\n",
      "{'Year': '2018', 'Revenue': '$8,547'}\n",
      "{'Year': '2017', 'Revenue': '$7,965'}\n",
      "{'Year': '2016', 'Revenue': '$9,364'}\n",
      "{'Year': '2015', 'Revenue': '$9,296'}\n",
      "{'Year': '2014', 'Revenue': '$9,040'}\n",
      "{'Year': '2013', 'Revenue': '$8,887'}\n",
      "{'Year': '2012', 'Revenue': '$9,551'}\n",
      "{'Year': '2011', 'Revenue': '$9,474'}\n",
      "{'Year': '2010', 'Revenue': '$9,078'}\n",
      "{'Year': '2009', 'Revenue': '$8,806'}\n"
     ]
    }
   ],
   "source": [
    "import requests\n",
    "from bs4 import BeautifulSoup\n",
    "import time  # For adding delays between requests\n",
    "\n",
    "def get_gamestop_revenue():\n",
    "    # URL of the GameStop revenue page\n",
    "    url = 'https://www.macrotrends.net/stocks/charts/GME/gamestop/revenue'\n",
    "\n",
    "    # Define a custom User-Agent header\n",
    "    headers = {'User-Agent': 'Mozilla/5.0 (Windows NT 10.0; Win64; x64) AppleWebKit/537.36 (KHTML, like Gecko) Chrome/96.0.4664.110 Safari/537.36'}\n",
    "\n",
    "    # Send a GET request to the URL with the custom User-Agent header\n",
    "    response = requests.get(url, headers=headers)\n",
    "\n",
    "    # Check if the request was successful (status code 200)\n",
    "    if response.status_code == 200:\n",
    "        # Parse the HTML content using BeautifulSoup\n",
    "        soup = BeautifulSoup(response.content, 'html.parser')\n",
    "        \n",
    "        # Find the revenue table on the page\n",
    "        revenue_table = soup.find('table', class_='historical_data_table table')\n",
    "        \n",
    "        # Check if the revenue table was found\n",
    "        if revenue_table:\n",
    "            # Extract the rows from the revenue table\n",
    "            rows = revenue_table.find_all('tr')\n",
    "            \n",
    "            # Initialize an empty list to store revenue data\n",
    "            revenue_data = []\n",
    "            \n",
    "            # Iterate over rows to extract data\n",
    "            for row in rows[1:]:  # Skip the header row\n",
    "                cells = row.find_all('td')\n",
    "                year = cells[0].text.strip()\n",
    "                revenue = cells[1].text.strip()\n",
    "                revenue_data.append({'Year': year, 'Revenue': revenue})\n",
    "            \n",
    "            return revenue_data\n",
    "        else:\n",
    "            print(\"Revenue table not found on the page.\")\n",
    "    else:\n",
    "        print(\"Failed to fetch the webpage.\")\n",
    "\n",
    "# Usage example\n",
    "gamestop_revenue_data = get_gamestop_revenue()\n",
    "if gamestop_revenue_data:\n",
    "    for entry in gamestop_revenue_data:\n",
    "        print(entry)\n",
    "\n",
    "# Add a delay after scraping to avoid rapid requests\n",
    "time.sleep(2)\n"
   ]
  },
  {
   "cell_type": "code",
   "execution_count": 4,
   "id": "1ecb0213-6444-4700-9d76-22d1bae83391",
   "metadata": {},
   "outputs": [
    {
     "data": {
      "image/png": "[encoded data removed]",
      "text/plain": [
       "<Figure size 1000x600 with 1 Axes>"
      ]
     },
     "metadata": {},
     "output_type": "display_data"
    }
   ],
   "source": [
    "import yfinance as yf\n",
    "import matplotlib.pyplot as plt\n",
    "\n",
    "def make_graph(data, title, xlabel, ylabel):\n",
    "    plt.figure(figsize=(10, 6))\n",
    "    plt.plot(data.index, data['Close'], label='Close Price', color='blue')\n",
    "    plt.title(title)\n",
    "    plt.xlabel(xlabel)\n",
    "    plt.ylabel(ylabel)\n",
    "    plt.legend()\n",
    "    plt.grid(True)\n",
    "    plt.show()\n",
    "\n",
    "def plot_tesla_stock():\n",
    "    # Fetch historical stock data for Tesla (TSLA) using yfinance\n",
    "    ticker = 'TSLA'\n",
    "    start_date = '2021-01-01'\n",
    "    end_date = '2021-12-31'\n",
    "    tesla_data = yf.download(ticker, start=start_date, end=end_date, progress=False)\n",
    "\n",
    "    if tesla_data.empty:\n",
    "        print(f\"Failed to fetch {ticker} stock data.\")\n",
    "        return\n",
    "\n",
    "    # Plot Tesla stock data\n",
    "    make_graph(tesla_data, 'Tesla Stock Data', 'Date', 'Price ($)')\n",
    "\n",
    "# Call the function to plot Tesla stock data\n",
    "plot_tesla_stock()\n"
   ]
  },
  {
   "cell_type": "code",
   "execution_count": 5,
   "id": "b3e72659-b6c4-4be3-8f79-7e47b0266b00",
   "metadata": {},
   "outputs": [
    {
     "data": {
      "image/png": "[encoded data removed]",
      "text/plain": [
       "<Figure size 1000x600 with 1 Axes>"
      ]
     },
     "metadata": {},
     "output_type": "display_data"
    }
   ],
   "source": [
    "import yfinance as yf\n",
    "import matplotlib.pyplot as plt\n",
    "\n",
    "def make_graph(data, title, xlabel, ylabel):\n",
    "    plt.figure(figsize=(10, 6))\n",
    "    plt.plot(data.index, data['Close'], label='Close Price', color='green')\n",
    "    plt.title(title)\n",
    "    plt.xlabel(xlabel)\n",
    "    plt.ylabel(ylabel)\n",
    "    plt.legend()\n",
    "    plt.grid(True)\n",
    "    plt.show()\n",
    "\n",
    "def plot_gamestop_stock():\n",
    "    # Fetch historical stock data for GameStop (GME) using yfinance\n",
    "    ticker = 'GME'\n",
    "    start_date = '2021-01-01'\n",
    "    end_date = '2021-12-31'\n",
    "    gamestop_data = yf.download(ticker, start=start_date, end=end_date, progress=False)\n",
    "\n",
    "    if gamestop_data.empty:\n",
    "        print(f\"Failed to fetch {ticker} stock data.\")\n",
    "        return\n",
    "\n",
    "    # Plot GameStop stock data\n",
    "    make_graph(gamestop_data, 'GameStop Stock Data', 'Date', 'Price ($)')\n",
    "\n",
    "# Call the function to plot GameStop stock data\n",
    "plot_gamestop_stock()\n"
   ]
  },
  {
   "cell_type": "code",
   "execution_count": null,
   "id": "b326cf60-0c68-4943-a172-b8d3f6018a23",
   "metadata": {},
   "outputs": [],
   "source": []
  }
 ],
 "metadata": {
  "kernelspec": {
   "display_name": "Python 3 (ipykernel)",
   "language": "python",
   "name": "python3"
  },
  "language_info": {
   "codemirror_mode": {
    "name": "ipython",
    "version": 3
   },
   "file_extension": ".py",
   "mimetype": "text/x-python",
   "name": "python",
   "nbconvert_exporter": "python",
   "pygments_lexer": "ipython3",
   "version": "3.12.0"
  }
 },
 "nbformat": 4,
 "nbformat_minor": 5
}
